{
 "cells": [
  {
   "cell_type": "markdown",
   "metadata": {},
   "source": [
    "<center>\n",
    "<h1>Python</h1>\n",
    "<h2>Spring 2021, YSU</h2>\n",
    "</br></br>\n",
    "<h1>Homework 03</h2>\n",
    "</center>"
   ]
  },
  {
   "cell_type": "markdown",
   "metadata": {},
   "source": [
    "## Problem 01, Dictionaries"
   ]
  },
  {
   "cell_type": "markdown",
   "metadata": {},
   "source": [
    "- Construct a Dictionary **cities_AM** that corresponds to largest 5 Armenian cities their population, say, for Yerevan, the population is 1077.6 (in thousands). You can find some data at [https://armstat.am/file/article/nasel_01.01.2018.pdf](https://armstat.am/file/article/nasel_01.01.2018.pdf)"
   ]
  },
  {
   "cell_type": "code",
   "execution_count": 2,
   "metadata": {},
   "outputs": [],
   "source": [
    "cities_AM = {\"Yerevan\":1077.6, \"Gyumri\":114.5, \"Vanadzor\":79.3, \"Vagharshapat\":46.4, \"Abovyan\":44.6}"
   ]
  },
  {
   "cell_type": "markdown",
   "metadata": {},
   "source": [
    "- Print the names of cities"
   ]
  },
  {
   "cell_type": "code",
   "execution_count": 3,
   "metadata": {},
   "outputs": [
    {
     "data": {
      "text/plain": [
       "dict_keys(['Yerevan', 'Gyumri', 'Vanadzor', 'Vagharshapat', 'Abovyan'])"
      ]
     },
     "execution_count": 3,
     "metadata": {},
     "output_type": "execute_result"
    }
   ],
   "source": [
    "cities_AM.keys()"
   ]
  },
  {
   "cell_type": "markdown",
   "metadata": {},
   "source": [
    "- Print the sum of population in largest 5 Armenian cities"
   ]
  },
  {
   "cell_type": "code",
   "execution_count": 4,
   "metadata": {},
   "outputs": [
    {
     "data": {
      "text/plain": [
       "1362.3999999999999"
      ]
     },
     "execution_count": 4,
     "metadata": {},
     "output_type": "execute_result"
    }
   ],
   "source": [
    "sum(cities_AM.values())"
   ]
  },
  {
   "cell_type": "markdown",
   "metadata": {},
   "source": [
    "- Add the 6th city with its population to the dictionary"
   ]
  },
  {
   "cell_type": "code",
   "execution_count": 5,
   "metadata": {},
   "outputs": [
    {
     "data": {
      "text/plain": [
       "{'Yerevan': 1077.6,\n",
       " 'Gyumri': 114.5,\n",
       " 'Vanadzor': 79.3,\n",
       " 'Vagharshapat': 46.4,\n",
       " 'Abovyan': 44.6,\n",
       " 'Kapan': 42.5}"
      ]
     },
     "execution_count": 5,
     "metadata": {},
     "output_type": "execute_result"
    }
   ],
   "source": [
    "cities_AM.update({\"Kapan\":42.5})\n",
    "cities_AM"
   ]
  },
  {
   "cell_type": "markdown",
   "metadata": {},
   "source": [
    "- Find information about the surface areas of cities, and update dictionary to include tuples (population, area) for each city. "
   ]
  },
  {
   "cell_type": "code",
   "execution_count": 8,
   "metadata": {},
   "outputs": [
    {
     "data": {
      "text/plain": [
       "{'Yerevan': (1077.6, 223),\n",
       " 'Gyumri': (114.5, 54),\n",
       " 'Vanadzor': (79.3, 32),\n",
       " 'Vagharshapat': (46.4, 40),\n",
       " 'Abovyan': (44.6, 11),\n",
       " 'Kapan': (42.5, 36)}"
      ]
     },
     "execution_count": 8,
     "metadata": {},
     "output_type": "execute_result"
    }
   ],
   "source": [
    "cities_AM['Yerevan'] = (1077.6, 223)\n",
    "cities_AM['Gyumri'] = (114.5, 54)\n",
    "cities_AM['Vanadzor'] = (79.3, 32)\n",
    "cities_AM['Vagharshapat'] = (46.4, 40)\n",
    "cities_AM['Abovyan'] = (44.6, 11)\n",
    "cities_AM['Kapan'] = (42.5, 36)\n",
    "cities_AM"
   ]
  },
  {
   "cell_type": "markdown",
   "metadata": {},
   "source": [
    "- Construct a similar dictionary **cities_GE** for Germany 2 largest cities, and create a new Dictionary, with keys \"Armenia\", \"Germany\", and values as the constructed dictionaries"
   ]
  },
  {
   "cell_type": "code",
   "execution_count": 12,
   "metadata": {},
   "outputs": [
    {
     "data": {
      "text/plain": [
       "{'Berlin': (3800000, 891.68), 'Hamburg': (1900000, 755.3)}"
      ]
     },
     "execution_count": 12,
     "metadata": {},
     "output_type": "execute_result"
    }
   ],
   "source": [
    "cities_GE = {'Berlin':(3800000, 891.68), 'Hamburg':(1900000, 755.3)}\n",
    "cities_GE"
   ]
  },
  {
   "cell_type": "code",
   "execution_count": 14,
   "metadata": {},
   "outputs": [
    {
     "data": {
      "text/plain": [
       "{'Armenia': {'Yerevan': (1077.6, 223),\n",
       "  'Gyumri': (114.5, 54),\n",
       "  'Vanadzor': (79.3, 32),\n",
       "  'Vagharshapat': (46.4, 40),\n",
       "  'Abovyan': (44.6, 11),\n",
       "  'Kapan': (42.5, 36)},\n",
       " 'Germany': {'Berlin': (3800000, 891.68), 'Hamburg': (1900000, 755.3)}}"
      ]
     },
     "execution_count": 14,
     "metadata": {},
     "output_type": "execute_result"
    }
   ],
   "source": [
    "cities = {'Armenia':cities_AM, 'Germany':cities_GE}\n",
    "cities"
   ]
  },
  {
   "cell_type": "markdown",
   "metadata": {},
   "source": [
    "## Problem 02, Control flows"
   ]
  },
  {
   "cell_type": "markdown",
   "metadata": {},
   "source": [
    "- Consider the list `x = [1, -2, 3, 9, 0, 1, 3, 2, -2, -4, 1, -3]` . Construct two lists, `x_neg` and `x_pos` containng, correspondingly, all negative and all positive elements of `x` in the same order. Costruct also lists `ind_neg` and `ind_pos` which will contain the indices of all negative and positive elements of `x`, respectively.\n"
   ]
  },
  {
   "cell_type": "code",
   "execution_count": 16,
   "metadata": {},
   "outputs": [],
   "source": [
    "x = [1, -2, 3, 9, 0, 1, 3, 2, -2, -4, 1, -3]"
   ]
  },
  {
   "cell_type": "code",
   "execution_count": 17,
   "metadata": {},
   "outputs": [
    {
     "name": "stdout",
     "output_type": "stream",
     "text": [
      "[-2, -4, -2, -2, -2, -4]\n",
      "[1, 9, 1, 9, 3, 1]\n"
     ]
    }
   ],
   "source": [
    "x_neg = []\n",
    "x_pos = []\n",
    "for i in x:\n",
    "    if x[i] < 0:\n",
    "        x_neg.append(x[i])\n",
    "    elif x[i] > 0:\n",
    "        x_pos.append(x[i])        \n",
    "print(x_neg)        \n",
    "print(x_pos)"
   ]
  },
  {
   "cell_type": "markdown",
   "metadata": {},
   "source": [
    "- Find the sum \n",
    "$$\n",
    "1+ 3+ 5 + ... + 101.\n",
    "$$"
   ]
  },
  {
   "cell_type": "code",
   "execution_count": 28,
   "metadata": {},
   "outputs": [
    {
     "data": {
      "text/plain": [
       "2601"
      ]
     },
     "execution_count": 28,
     "metadata": {},
     "output_type": "execute_result"
    }
   ],
   "source": [
    "sum = 0\n",
    "for i in range(102):\n",
    "    if i%2 != 0:\n",
    "        sum += i\n",
    "sum        "
   ]
  },
  {
   "cell_type": "markdown",
   "metadata": {},
   "source": [
    "- Calculate the sum\n",
    "$$\n",
    "1 +\\frac{1}{2} +3 +\\frac{1}{4}+5 +\\frac{1}{6}+...+99+\\frac{1}{100}.\n",
    "$$"
   ]
  },
  {
   "cell_type": "code",
   "execution_count": 20,
   "metadata": {},
   "outputs": [
    {
     "data": {
      "text/plain": [
       "2502.2496026691647"
      ]
     },
     "execution_count": 20,
     "metadata": {},
     "output_type": "execute_result"
    }
   ],
   "source": [
    "sum1 = 0\n",
    "sum2 = 0\n",
    "sum = 0\n",
    "for i in range(1,101):\n",
    "    if i%2 != 0:\n",
    "        sum1 += i\n",
    "for i in range(1,101):\n",
    "    if i%2 == 0:\n",
    "        sum1 += 1/i    \n",
    "sum = sum1 + sum2        \n",
    "sum        "
   ]
  },
  {
   "cell_type": "markdown",
   "metadata": {},
   "source": [
    "- Calculate the semifactorial $20!!$, without using any Python built-in factorial calculation functions (see [Wiki](https://en.wikipedia.org/wiki/Double_factorial))"
   ]
  },
  {
   "cell_type": "code",
   "execution_count": 21,
   "metadata": {},
   "outputs": [
    {
     "data": {
      "text/plain": [
       "3715891200"
      ]
     },
     "execution_count": 21,
     "metadata": {},
     "output_type": "execute_result"
    }
   ],
   "source": [
    "fac = 1\n",
    "for i in range(1, 21):\n",
    "    if i%2 == 0:\n",
    "        fac = fac * i\n",
    "fac        "
   ]
  },
  {
   "cell_type": "markdown",
   "metadata": {},
   "source": [
    "- Calculate the sum \n",
    "$$\n",
    "\\sum_{k=0}^{20} \\dfrac{(-1)^k}{k!}\n",
    "$$\n",
    "without using any `factorial` function."
   ]
  },
  {
   "cell_type": "code",
   "execution_count": 26,
   "metadata": {},
   "outputs": [
    {
     "data": {
      "text/plain": [
       "-4.43656365691809"
      ]
     },
     "execution_count": 26,
     "metadata": {},
     "output_type": "execute_result"
    }
   ],
   "source": [
    "fac = 1\n",
    "sum = 0\n",
    "for i in range(1, 21):\n",
    "        fac = fac * i   \n",
    "        sum += ((-1)^i)/fac\n",
    "sum        "
   ]
  },
  {
   "cell_type": "markdown",
   "metadata": {},
   "source": [
    "- Given a list of real numbers, find the maximum element of that list, without using any built-in Python `max` function"
   ]
  },
  {
   "cell_type": "code",
   "execution_count": 27,
   "metadata": {},
   "outputs": [],
   "source": [
    "x = [1, -2, 3, 9, 0, 1, 3, 2, -2, -4, 1, -3]"
   ]
  },
  {
   "cell_type": "code",
   "execution_count": 29,
   "metadata": {},
   "outputs": [
    {
     "data": {
      "text/plain": [
       "9"
      ]
     },
     "execution_count": 29,
     "metadata": {},
     "output_type": "execute_result"
    }
   ],
   "source": [
    "max = x[0]\n",
    "for i in x:\n",
    "    if x[i] > max:\n",
    "        max = x[i]\n",
    "max        "
   ]
  },
  {
   "cell_type": "markdown",
   "metadata": {},
   "source": [
    "## Problem 03, Functions"
   ]
  },
  {
   "cell_type": "code",
   "execution_count": 1,
   "metadata": {},
   "outputs": [],
   "source": [
    "import math"
   ]
  },
  {
   "cell_type": "markdown",
   "metadata": {},
   "source": [
    "- Define the following function in Python:\n",
    "$$\n",
    "f(x) = \\left\\{\n",
    "\\begin{array}{ll}\n",
    "-1, & x <0\\\\\n",
    "4, & 0\\le x\\le 5\\\\\n",
    "9, & x>5\n",
    "\\end{array}\n",
    "\\right.\n",
    "$$\n",
    "and calculate its value at $-4, 3$ and $7$."
   ]
  },
  {
   "cell_type": "code",
   "execution_count": 30,
   "metadata": {},
   "outputs": [],
   "source": [
    "def f(x):\n",
    "    if x < 0:\n",
    "        return -1\n",
    "    elif x > 5:\n",
    "        return 9\n",
    "    else:\n",
    "        return 4"
   ]
  },
  {
   "cell_type": "code",
   "execution_count": 32,
   "metadata": {},
   "outputs": [
    {
     "data": {
      "text/plain": [
       "(-1, 4, 9)"
      ]
     },
     "execution_count": 32,
     "metadata": {},
     "output_type": "execute_result"
    }
   ],
   "source": [
    "f(-4), f(3), f(7)"
   ]
  },
  {
   "cell_type": "markdown",
   "metadata": {},
   "source": [
    "- Define the following function in Python:\n",
    "$$\n",
    "f(x) = \\left\\{\n",
    "\\begin{array}{ll}\n",
    "1, & x <0\\ or \\ x> 10\\\\\n",
    "0, & 0\\le x\\le 10\\\\\n",
    "\\end{array}\n",
    "\\right.\n",
    "$$\n",
    "and calculate its value at $-4, 0$ and $17$."
   ]
  },
  {
   "cell_type": "code",
   "execution_count": 35,
   "metadata": {},
   "outputs": [],
   "source": [
    "def g(x):\n",
    "    if (x < 0 or x > 10):\n",
    "        return 1\n",
    "    else:\n",
    "        return 0"
   ]
  },
  {
   "cell_type": "code",
   "execution_count": 38,
   "metadata": {},
   "outputs": [
    {
     "data": {
      "text/plain": [
       "(1, 0, 1)"
      ]
     },
     "execution_count": 38,
     "metadata": {},
     "output_type": "execute_result"
    }
   ],
   "source": [
    "g(-4), g(0), g(17)"
   ]
  },
  {
   "cell_type": "markdown",
   "metadata": {},
   "source": [
    "- Write a function `BinomCoeff` that will return, for any integer $n\\ge 0$, the Binomial Coeffieints of the expansion of $(a+b)^n$. For example, for $n=2$, we need to have the following triple:\n",
    "$$\n",
    "1, 2, 1,\n",
    "$$\n",
    "which are the coefficients of \n",
    "$$\n",
    "(a+b)^2 = 1\\cdot a^2 + 2\\cdot ab + 1\\cdot b^2.\n",
    "$$\n",
    "For $n=3$, we need to have\n",
    "$$\n",
    "1,3,3,1.\n",
    "$$"
   ]
  },
  {
   "cell_type": "code",
   "execution_count": 43,
   "metadata": {},
   "outputs": [
    {
     "name": "stdout",
     "output_type": "stream",
     "text": [
      "Number3\n",
      "1\n",
      "3\n",
      "3\n",
      "1\n"
     ]
    }
   ],
   "source": [
    "n = int(input(\"Number\"))\n",
    "for i in range(n+1):\n",
    "    if n > 0:\n",
    "        a = math.comb(n,i)\n",
    "        print(a)\n",
    "    else:\n",
    "        print(\"The number isn't natural\")"
   ]
  }
 ],
 "metadata": {
  "kernelspec": {
   "display_name": "Python 3",
   "language": "python",
   "name": "python3"
  },
  "language_info": {
   "codemirror_mode": {
    "name": "ipython",
    "version": 3
   },
   "file_extension": ".py",
   "mimetype": "text/x-python",
   "name": "python",
   "nbconvert_exporter": "python",
   "pygments_lexer": "ipython3",
   "version": "3.8.5"
  }
 },
 "nbformat": 4,
 "nbformat_minor": 4
}
